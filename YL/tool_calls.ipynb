{
 "cells": [
  {
   "cell_type": "markdown",
   "metadata": {},
   "source": [
    "How to use a model to call tools"
   ]
  },
  {
   "cell_type": "markdown",
   "metadata": {},
   "source": [
    "Passing tools to chat models"
   ]
  },
  {
   "cell_type": "markdown",
   "metadata": {},
   "source": [
    "在 Python 函数上使用 @tool 装饰器来定义自定义工具的架构"
   ]
  },
  {
   "cell_type": "code",
   "execution_count": 1,
   "metadata": {},
   "outputs": [],
   "source": [
    "from langchain_core.tools import tool\n",
    "\n",
    "@tool             #装饰器（decorator），定义函数 add 的访问级别和用途\n",
    "def add(a: int, b: int) -> int:       #-> int 是一个类型提示，表明函数 add 将返回一个整数结果。\n",
    "    \"\"\"Adds a and b.\"\"\"\n",
    "    return a + b\n",
    "\n",
    "\n",
    "@tool\n",
    "def multiply(a: int, b: int) -> int:\n",
    "    \"\"\"Multiplies a and b.\"\"\"\n",
    "    return a * b\n",
    "\n",
    "\n",
    "tools = [add, multiply]"
   ]
  },
  {
   "cell_type": "markdown",
   "metadata": {},
   "source": [
    "使用 Pydantic 定义模式"
   ]
  },
  {
   "cell_type": "code",
   "execution_count": 2,
   "metadata": {},
   "outputs": [],
   "source": [
    "from langchain_core.pydantic_v1 import BaseModel, Field\n",
    "\n",
    "# Note that the docstrings here are crucial, as they will be passed along\n",
    "# to the model along with the class name.\n",
    "class Add(BaseModel):\n",
    "    \"\"\"Add two integers together.\"\"\"\n",
    "    a: int = Field(..., description=\"First integer\")\n",
    "    b: int = Field(..., description=\"Second integer\")\n",
    "\n",
    "class Multiply(BaseModel):\n",
    "    \"\"\"Multiply two integers together.\"\"\"\n",
    "\n",
    "    a: int = Field(..., description=\"First integer\")\n",
    "    b: int = Field(..., description=\"Second integer\")\n",
    "\n",
    "tools = [Add, Multiply]\n"
   ]
  },
  {
   "cell_type": "markdown",
   "metadata": {},
   "source": [
    "绑定到chat models"
   ]
  },
  {
   "cell_type": "code",
   "execution_count": 3,
   "metadata": {},
   "outputs": [],
   "source": [
    "# pip install -qU langchain-openai"
   ]
  },
  {
   "cell_type": "code",
   "execution_count": 4,
   "metadata": {},
   "outputs": [
    {
     "name": "stdout",
     "output_type": "stream",
     "text": [
      "sk-zk224a777126590fa5988d720e1c413bd6866854f68d0768\n"
     ]
    }
   ],
   "source": [
    "import getpass\n",
    "import os\n",
    "\n",
    "os.environ[\"http_proxy\"] = \"http://localhost:7890\"\n",
    "os.environ[\"https_proxy\"] = \"http://localhost:7890\"\n",
    "\n",
    "\n",
    "openai_api_key = os.environ[\"OPENAI_API_KEY\"]\n",
    "print(openai_api_key)\n",
    "\n",
    "os.environ[\"OPENAI_API_BASE\"]=\"https://api.zhizengzeng.com/v1/\"\n",
    "\n",
    "from langchain_openai import ChatOpenAI\n",
    "\n",
    "llm = ChatOpenAI(model=\"gpt-3.5-turbo-0125\")"
   ]
  },
  {
   "cell_type": "code",
   "execution_count": 5,
   "metadata": {},
   "outputs": [
    {
     "name": "stdout",
     "output_type": "stream",
     "text": [
      "content='' additional_kwargs={'tool_calls': [{'id': 'call_OeSeaaubxhLsKL58GFp1t3JI', 'function': {'arguments': '{\"a\":3,\"b\":12}', 'name': 'Multiply'}, 'type': 'function'}]} response_metadata={'token_usage': {'completion_tokens': 18, 'prompt_tokens': 95, 'total_tokens': 113}, 'model_name': 'gpt-3.5-turbo-0125', 'system_fingerprint': None, 'finish_reason': 'tool_calls', 'logprobs': None} id='run-c6332cec-e61c-48db-82f3-47f3da5f9bee-0' tool_calls=[{'name': 'Multiply', 'args': {'a': 3, 'b': 12}, 'id': 'call_OeSeaaubxhLsKL58GFp1t3JI'}] usage_metadata={'input_tokens': 95, 'output_tokens': 18, 'total_tokens': 113}\n"
     ]
    }
   ],
   "source": [
    "# \n",
    "llm_with_tools = llm.bind_tools(tools)\n",
    "query = \"What is 3 * 12?\"\n",
    "result = llm_with_tools.invoke(query)\n",
    "\n",
    "print(result)\n"
   ]
  },
  {
   "cell_type": "markdown",
   "metadata": {},
   "source": [
    "Tool calls"
   ]
  },
  {
   "cell_type": "code",
   "execution_count": 6,
   "metadata": {},
   "outputs": [
    {
     "data": {
      "text/plain": [
       "[{'name': 'Multiply',\n",
       "  'args': {'a': 3, 'b': 12},\n",
       "  'id': 'call_GHayO5V3rDb3YaiiENserBwg'},\n",
       " {'name': 'Add',\n",
       "  'args': {'a': 11, 'b': 49},\n",
       "  'id': 'call_wI7VyCGGZJVqxeZ80wVKj23n'}]"
      ]
     },
     "execution_count": 6,
     "metadata": {},
     "output_type": "execute_result"
    }
   ],
   "source": [
    "query = \"What is 3 * 12? Also, what is 11 + 49?\"\n",
    "\n",
    "llm_with_tools.invoke(query).tool_calls"
   ]
  },
  {
   "cell_type": "markdown",
   "metadata": {},
   "source": [
    "使用 PydanticToolsParser 将 .tool_calls 属性上填充的现有值转换回原始 Pydantic 类"
   ]
  },
  {
   "cell_type": "code",
   "execution_count": 7,
   "metadata": {},
   "outputs": [
    {
     "data": {
      "text/plain": [
       "[Multiply(a=3, b=12), Add(a=11, b=49)]"
      ]
     },
     "execution_count": 7,
     "metadata": {},
     "output_type": "execute_result"
    }
   ],
   "source": [
    "from langchain_core.output_parsers import  PydanticToolsParser \n",
    "\n",
    "chain = llm_with_tools | PydanticToolsParser (tools = [Add, Multiply])\n",
    "chain.invoke(query)"
   ]
  },
  {
   "cell_type": "markdown",
   "metadata": {},
   "source": [
    "How to use few-shot prompting with tool calling"
   ]
  },
  {
   "cell_type": "code",
   "execution_count": 8,
   "metadata": {},
   "outputs": [],
   "source": [
    "llm_with_tools = llm.bind_tools(tools)"
   ]
  },
  {
   "cell_type": "code",
   "execution_count": 9,
   "metadata": {},
   "outputs": [
    {
     "data": {
      "text/plain": [
       "[{'name': 'Multiply',\n",
       "  'args': {'a': 119, 'b': 8},\n",
       "  'id': 'call_UgF8aF3GJnsh8WDfoqyOJdet'},\n",
       " {'name': 'Add',\n",
       "  'args': {'a': 952, 'b': -20},\n",
       "  'id': 'call_kjhyIv1xf2OnBndYkXrfgWJL'}]"
      ]
     },
     "execution_count": 9,
     "metadata": {},
     "output_type": "execute_result"
    }
   ],
   "source": [
    "llm_with_tools.invoke(\n",
    "    \"Whats 119 times 8 minus 20. Don't do any math yourself, only use tools for math. Respect order of operations\"\n",
    ").tool_calls"
   ]
  },
  {
   "cell_type": "markdown",
   "metadata": {},
   "source": [
    "adding a prompt with some examples"
   ]
  },
  {
   "cell_type": "code",
   "execution_count": 10,
   "metadata": {},
   "outputs": [],
   "source": [
    "from langchain_core.messages import AIMessage, HumanMessage, ToolMessage\n",
    "from langchain_core.prompts import ChatPromptTemplate\n",
    "from langchain_core.runnables import RunnablePassthrough"
   ]
  },
  {
   "cell_type": "code",
   "execution_count": 11,
   "metadata": {},
   "outputs": [],
   "source": [
    "examples = [\n",
    "    HumanMessage(\n",
    "        \"What's the product of 317253 and 128472 plus four\", name=\"example_user\"\n",
    "    ),\n",
    "    AIMessage(\n",
    "        \"\",\n",
    "        name = \"example_assistant\",\n",
    "        tool_calls = [\n",
    "            {\"name\": \"Multiply\", \"args\": {\"x\": 317253, \"y\": 128472}, \"id\": \"1\"}\n",
    "        ],\n",
    "    ),\n",
    "\n",
    "    ToolMessage(\"16505054784\", tool_call_id=\"1\"),\n",
    "    AIMessage(\n",
    "        \"\",\n",
    "        name=\"example_assistant\",\n",
    "        tool_calls=[{\"name\": \"Add\", \"args\": {\"x\": 16505054784, \"y\": 4}, \"id\": \"2\"}],\n",
    "    ),\n",
    "    ToolMessage(\"16505054788\", tool_call_id=\"2\"),\n",
    "    AIMessage(\n",
    "        \"The product of 317253 and 128472 plus four is 16505054788\",\n",
    "        name=\"example_assistant\",\n",
    "    ),\n",
    "]"
   ]
  },
  {
   "cell_type": "code",
   "execution_count": 12,
   "metadata": {},
   "outputs": [],
   "source": [
    "system = \"\"\"You are bad at math but are an expert at using a calculator. \n",
    "\n",
    "Use past tool usage as an example of how to correctly use the tools.\"\"\"\n",
    "\n",
    "few_shot_prompt = ChatPromptTemplate.from_messages(\n",
    "    [\n",
    "        (\"system\",system),\n",
    "        *examples,           #接收examples并作为单独参数传递给from_messages\n",
    "        (\"human\",\"{query}\"),\n",
    "    ]\n",
    ")\n"
   ]
  },
  {
   "cell_type": "code",
   "execution_count": 13,
   "metadata": {},
   "outputs": [
    {
     "data": {
      "text/plain": [
       "[{'name': 'Multiply',\n",
       "  'args': {'a': 119, 'b': 8},\n",
       "  'id': 'call_lclTCe0pGyCxkYu75l2DTapR'}]"
      ]
     },
     "execution_count": 13,
     "metadata": {},
     "output_type": "execute_result"
    }
   ],
   "source": [
    "chain = {\"query\": RunnablePassthrough()} | few_shot_prompt | llm_with_tools\n",
    "chain.invoke(\"Whats 119 times 8 minus 20\").tool_calls"
   ]
  },
  {
   "cell_type": "markdown",
   "metadata": {},
   "source": [
    "How to stream tool calls"
   ]
  },
  {
   "cell_type": "code",
   "execution_count": 14,
   "metadata": {},
   "outputs": [
    {
     "name": "stdout",
     "output_type": "stream",
     "text": [
      "[]\n",
      "[{'name': 'Multiply', 'args': '', 'id': 'call_lZpDAJNeQxEfFPekSlWj88UG', 'index': 0}]\n",
      "[{'name': None, 'args': '{\"a\"', 'id': None, 'index': 0}]\n",
      "[{'name': None, 'args': ': 3, ', 'id': None, 'index': 0}]\n",
      "[{'name': None, 'args': '\"b\": 1', 'id': None, 'index': 0}]\n",
      "[{'name': None, 'args': '2}', 'id': None, 'index': 0}]\n",
      "[{'name': 'Add', 'args': '', 'id': 'call_zROkQdDphrv4t41Scuoyqchk', 'index': 1}]\n",
      "[{'name': None, 'args': '{\"a\"', 'id': None, 'index': 1}]\n",
      "[{'name': None, 'args': ': 11,', 'id': None, 'index': 1}]\n",
      "[{'name': None, 'args': ' \"b\": ', 'id': None, 'index': 1}]\n",
      "[{'name': None, 'args': '49}', 'id': None, 'index': 1}]\n",
      "[]\n"
     ]
    }
   ],
   "source": [
    "###定义查询并流式输出\n",
    "\n",
    "query = \"What is 3 * 12? Also, what is 11 + 49?\"\n",
    "\n",
    "#asnyc异步迭代器\n",
    "async for chunk in llm_with_tools.astream(query):       #循环遍历异步可迭代对象并打印chunk工具调用信息\n",
    "    print(chunk.tool_call_chunks)                       "
   ]
  },
  {
   "cell_type": "markdown",
   "metadata": {},
   "source": [
    "积累工具调用"
   ]
  },
  {
   "cell_type": "code",
   "execution_count": 15,
   "metadata": {},
   "outputs": [
    {
     "name": "stdout",
     "output_type": "stream",
     "text": [
      "[]\n",
      "[{'name': 'Multiply', 'args': '', 'id': 'call_ywVlA3UkBeRwQtV6VL1lP5rJ', 'index': 0}]\n",
      "[{'name': 'Multiply', 'args': '{\"a\"', 'id': 'call_ywVlA3UkBeRwQtV6VL1lP5rJ', 'index': 0}]\n",
      "[{'name': 'Multiply', 'args': '{\"a\": 3, ', 'id': 'call_ywVlA3UkBeRwQtV6VL1lP5rJ', 'index': 0}]\n",
      "[{'name': 'Multiply', 'args': '{\"a\": 3, \"b\": 1', 'id': 'call_ywVlA3UkBeRwQtV6VL1lP5rJ', 'index': 0}]\n",
      "[{'name': 'Multiply', 'args': '{\"a\": 3, \"b\": 12}', 'id': 'call_ywVlA3UkBeRwQtV6VL1lP5rJ', 'index': 0}]\n",
      "[{'name': 'Multiply', 'args': '{\"a\": 3, \"b\": 12}', 'id': 'call_ywVlA3UkBeRwQtV6VL1lP5rJ', 'index': 0}, {'name': 'Add', 'args': '', 'id': 'call_3T7LBhzqx6VgSNN8Ai41w9aj', 'index': 1}]\n",
      "[{'name': 'Multiply', 'args': '{\"a\": 3, \"b\": 12}', 'id': 'call_ywVlA3UkBeRwQtV6VL1lP5rJ', 'index': 0}, {'name': 'Add', 'args': '{\"a\"', 'id': 'call_3T7LBhzqx6VgSNN8Ai41w9aj', 'index': 1}]\n",
      "[{'name': 'Multiply', 'args': '{\"a\": 3, \"b\": 12}', 'id': 'call_ywVlA3UkBeRwQtV6VL1lP5rJ', 'index': 0}, {'name': 'Add', 'args': '{\"a\": 11,', 'id': 'call_3T7LBhzqx6VgSNN8Ai41w9aj', 'index': 1}]\n",
      "[{'name': 'Multiply', 'args': '{\"a\": 3, \"b\": 12}', 'id': 'call_ywVlA3UkBeRwQtV6VL1lP5rJ', 'index': 0}, {'name': 'Add', 'args': '{\"a\": 11, \"b\": ', 'id': 'call_3T7LBhzqx6VgSNN8Ai41w9aj', 'index': 1}]\n",
      "[{'name': 'Multiply', 'args': '{\"a\": 3, \"b\": 12}', 'id': 'call_ywVlA3UkBeRwQtV6VL1lP5rJ', 'index': 0}, {'name': 'Add', 'args': '{\"a\": 11, \"b\": 49}', 'id': 'call_3T7LBhzqx6VgSNN8Ai41w9aj', 'index': 1}]\n",
      "[{'name': 'Multiply', 'args': '{\"a\": 3, \"b\": 12}', 'id': 'call_ywVlA3UkBeRwQtV6VL1lP5rJ', 'index': 0}, {'name': 'Add', 'args': '{\"a\": 11, \"b\": 49}', 'id': 'call_3T7LBhzqx6VgSNN8Ai41w9aj', 'index': 1}]\n"
     ]
    }
   ],
   "source": [
    "first = True\n",
    "async for chunk in llm_with_tools.astream(query):\n",
    "    if first:\n",
    "        gathered = chunk\n",
    "        first = False\n",
    "    else:\n",
    "        gathered = gathered + chunk\n",
    "    \n",
    "    print(gathered.tool_call_chunks)"
   ]
  },
  {
   "cell_type": "code",
   "execution_count": 16,
   "metadata": {},
   "outputs": [
    {
     "name": "stdout",
     "output_type": "stream",
     "text": [
      "{\"a\": 3, \"b\": 12}\n",
      "<class 'str'>\n"
     ]
    }
   ],
   "source": [
    "print(gathered.tool_call_chunks[0][\"args\"])        # 获取tool_call_chunks的第一个元素的args键的值\n",
    "print(type(gathered.tool_call_chunks[0][\"args\"]))    "
   ]
  },
  {
   "cell_type": "code",
   "execution_count": 17,
   "metadata": {},
   "outputs": [
    {
     "name": "stdout",
     "output_type": "stream",
     "text": [
      "[]\n",
      "[]\n",
      "[{'name': 'Multiply', 'args': {}, 'id': 'call_W3tF6imY85h8IjRfw1CwSp9i'}]\n",
      "[{'name': 'Multiply', 'args': {'a': 3}, 'id': 'call_W3tF6imY85h8IjRfw1CwSp9i'}]\n",
      "[{'name': 'Multiply', 'args': {'a': 3, 'b': 1}, 'id': 'call_W3tF6imY85h8IjRfw1CwSp9i'}]\n",
      "[{'name': 'Multiply', 'args': {'a': 3, 'b': 12}, 'id': 'call_W3tF6imY85h8IjRfw1CwSp9i'}]\n",
      "[{'name': 'Multiply', 'args': {'a': 3, 'b': 12}, 'id': 'call_W3tF6imY85h8IjRfw1CwSp9i'}]\n",
      "[{'name': 'Multiply', 'args': {'a': 3, 'b': 12}, 'id': 'call_W3tF6imY85h8IjRfw1CwSp9i'}, {'name': 'Add', 'args': {}, 'id': 'call_Cbz1W6NAf0CVjC0H64wI4iB8'}]\n",
      "[{'name': 'Multiply', 'args': {'a': 3, 'b': 12}, 'id': 'call_W3tF6imY85h8IjRfw1CwSp9i'}, {'name': 'Add', 'args': {'a': 11}, 'id': 'call_Cbz1W6NAf0CVjC0H64wI4iB8'}]\n",
      "[{'name': 'Multiply', 'args': {'a': 3, 'b': 12}, 'id': 'call_W3tF6imY85h8IjRfw1CwSp9i'}, {'name': 'Add', 'args': {'a': 11}, 'id': 'call_Cbz1W6NAf0CVjC0H64wI4iB8'}]\n",
      "[{'name': 'Multiply', 'args': {'a': 3, 'b': 12}, 'id': 'call_W3tF6imY85h8IjRfw1CwSp9i'}, {'name': 'Add', 'args': {'a': 11, 'b': 49}, 'id': 'call_Cbz1W6NAf0CVjC0H64wI4iB8'}]\n",
      "[{'name': 'Multiply', 'args': {'a': 3, 'b': 12}, 'id': 'call_W3tF6imY85h8IjRfw1CwSp9i'}, {'name': 'Add', 'args': {'a': 11, 'b': 49}, 'id': 'call_Cbz1W6NAf0CVjC0H64wI4iB8'}]\n"
     ]
    }
   ],
   "source": [
    "first = True\n",
    "async for chunk in llm_with_tools.astream(query):\n",
    "    if first:\n",
    "        gathered = chunk\n",
    "        first = False\n",
    "    else:\n",
    "        gathered = gathered + chunk\n",
    "\n",
    "# 区别在这里\n",
    "    print(gathered.tool_calls)"
   ]
  },
  {
   "cell_type": "code",
   "execution_count": 18,
   "metadata": {},
   "outputs": [
    {
     "name": "stdout",
     "output_type": "stream",
     "text": [
      "{'a': 3, 'b': 12}\n",
      "<class 'dict'>\n"
     ]
    }
   ],
   "source": [
    "print(gathered.tool_calls[0][\"args\"])\n",
    "print(type(gathered.tool_calls[0][\"args\"]))        \n",
    "###不理解输出type不同"
   ]
  },
  {
   "cell_type": "markdown",
   "metadata": {},
   "source": [
    "How to bind model-specific tools"
   ]
  },
  {
   "cell_type": "code",
   "execution_count": 19,
   "metadata": {},
   "outputs": [],
   "source": [
    "from langchain_openai import ChatOpenAI\n",
    "\n",
    "model = ChatOpenAI()"
   ]
  },
  {
   "cell_type": "code",
   "execution_count": 20,
   "metadata": {},
   "outputs": [],
   "source": [
    "model_with_tools = model.bind(\n",
    "    tools=[{\n",
    "        \"type\":\"function\",\n",
    "        \"function\":{\n",
    "            \"name\":\"multiply\",\n",
    "            \"description\": \"Multiply two integers together.\",\n",
    "            \"parameters\":{\n",
    "                \"type\": \"object\",\n",
    "                \"properties\":{\n",
    "                    \"a\": {\"type\": \"number\", \"description\": \"First integer\"},\n",
    "                    \"b\": {\"type\": \"number\", \"description\": \"Second integer\"},\n",
    "                },\n",
    "                \"required\":[\"a\",\"b\"],\n",
    "            },\n",
    "        },\n",
    "    }\n",
    "    ]\n",
    ")"
   ]
  },
  {
   "cell_type": "code",
   "execution_count": 21,
   "metadata": {},
   "outputs": [
    {
     "name": "stdout",
     "output_type": "stream",
     "text": [
      "content='' additional_kwargs={'tool_calls': [{'id': 'call_bk0SzQfdns42nsiAsOZWzW1l', 'function': {'arguments': '{\"a\": 119, \"b\": 8}', 'name': 'multiply'}, 'type': 'function'}]} response_metadata={'token_usage': {'completion_tokens': 32, 'prompt_tokens': 62, 'total_tokens': 94}, 'model_name': 'gpt-3.5-turbo', 'system_fingerprint': None, 'finish_reason': 'tool_calls', 'logprobs': None} id='run-66ba059f-98e1-4e10-b2d5-e555a6de38a6-0' tool_calls=[{'name': 'multiply', 'args': {'a': 119, 'b': 8}, 'id': 'call_bk0SzQfdns42nsiAsOZWzW1l'}] usage_metadata={'input_tokens': 62, 'output_tokens': 32, 'total_tokens': 94}\n"
     ]
    }
   ],
   "source": [
    "result = model_with_tools.invoke(\"Whats 119 times 8?\")\n",
    "print(result )"
   ]
  },
  {
   "cell_type": "markdown",
   "metadata": {},
   "source": [
    "AIMessage(content='', \n",
    "additional_kwargs={'tool_calls': [{'id': 'call_mn4ELw1NbuE0DFYhIeK0GrPe', 'function': {'arguments': '{\"a\":119,\"b\":8}', 'name': 'multiply'}, 'type': 'function'}]}, \n",
    "response_metadata={'token_usage': {'completion_tokens': 17, 'prompt_tokens': 62, 'total_tokens': 79}, 'model_name': 'gpt-3.5-turbo', 'system_fingerprint': 'fp_c2295e73ad', 'finish_reason': 'tool_calls', 'logprobs': None}, \n",
    "id='run-353e8a9a-7125-4f94-8c68-4f3da4c21120-0', \n",
    "tool_calls=[{'name': 'multiply', 'args': {'a': 119, 'b': 8}, 'id': 'call_mn4ELw1NbuE0DFYhIeK0GrPe'}])"
   ]
  },
  {
   "cell_type": "markdown",
   "metadata": {},
   "source": [
    "How to pass run time values to a tool"
   ]
  },
  {
   "cell_type": "markdown",
   "metadata": {},
   "source": [
    "Passing request time information\n",
    "传递请求时间信息\n",
    "在请求时动态创建工具，并将适当的信息绑定到它。例如，该信息可以是从请求本身解析出的用户ID。"
   ]
  },
  {
   "cell_type": "code",
   "execution_count": 22,
   "metadata": {},
   "outputs": [],
   "source": [
    "from typing import List\n",
    "from langchain_core.output_parsers import JsonOutputParser\n",
    "from langchain_core.tools import BaseTool , tool"
   ]
  },
  {
   "cell_type": "code",
   "execution_count": 23,
   "metadata": {},
   "outputs": [],
   "source": [
    "user_to_pets = {}\n",
    "\n",
    "def generate_tools_for_user (user_id:str)-> List[BaseTool]:\n",
    "    \"\"\"Generate a set of tools that have a user id associated with them.\"\"\"\n",
    "\n",
    "    @tool\n",
    "    def update_favorite_pets(pets: List[str]) -> None:          # “-> None” 指定函数返回行为，表示该函数没有返回任何值\n",
    "        \"\"\"Add the list of favorite pets.\"\"\"\n",
    "        user_to_pets[user_id] = pets                            # 将用户 ID 对应的宠物列表存入 user_to_pets 字典中\n",
    "\n",
    "    @tool\n",
    "    def delete_favorite_pets() -> None:\n",
    "        \"\"\"Delete the list of favorite pets.\"\"\"\n",
    "        if user_id in user_to_pets:\n",
    "            del user_to_pets[user_id]                           # 如果用户 ID 存在于 user_to_pets 中，删除对应的条目\n",
    "    \n",
    "    @tool\n",
    "    def list_favorite_pets() -> None:\n",
    "        \"\"\"List favorite pets if any.\"\"\"\n",
    "        return user_to_pets.get(user_id, [])                    # 返回用户 ID 对应的宠物列表，如果不存在则返回空列表\n",
    "    \n",
    "    return [update_favorite_pets, delete_favorite_pets, list_favorite_pets]\n",
    "    "
   ]
  },
  {
   "cell_type": "code",
   "execution_count": 24,
   "metadata": {},
   "outputs": [
    {
     "name": "stdout",
     "output_type": "stream",
     "text": [
      "{'eugene': ['cat', 'dog']}\n",
      "['cat', 'dog']\n"
     ]
    }
   ],
   "source": [
    "update_pets, delete_pets, list_pets = generate_tools_for_user(\"eugene\")   # user_id：\"eugene\"\n",
    "update_pets.invoke({\"pets\": [\"cat\", \"dog\"]})                              # \"pets\": [\"cat\", \"dog\" \n",
    "print(user_to_pets)\n",
    "print(list_pets.invoke({}))"
   ]
  },
  {
   "cell_type": "code",
   "execution_count": 25,
   "metadata": {},
   "outputs": [],
   "source": [
    "from langchain_core.prompts import  ChatPromptTemplate"
   ]
  },
  {
   "cell_type": "code",
   "execution_count": 30,
   "metadata": {},
   "outputs": [],
   "source": [
    "def handle_run_time_request(user_id: str, query: str):\n",
    "    \"\"\"Handle run time request.\"\"\"\n",
    "    tools =  generate_tools_for_user(user_id)  \n",
    "    llm_with_tools = llm.bind_tools(tools)\n",
    "    prompt = ChatPromptTemplate.from_messages(\n",
    "        [(\"system\",\"You are a helpful assistant.\")]\n",
    "    )\n",
    "    chain = prompt | llm_with_tools\n",
    "    return llm_with_tools.invoke(query)\n"
   ]
  },
  {
   "cell_type": "markdown",
   "metadata": {},
   "source": [
    "此代码将允许 LLM 调用这些工具，但 LLM 不知道用户 ID 的存在"
   ]
  },
  {
   "cell_type": "code",
   "execution_count": 31,
   "metadata": {},
   "outputs": [
    {
     "data": {
      "text/plain": [
       "[{'name': 'update_favorite_pets',\n",
       "  'args': {'pets': ['cats', 'parrots']},\n",
       "  'id': 'call_cTIQwIggrgkLW3hF7WjCdMlR'}]"
      ]
     },
     "execution_count": 31,
     "metadata": {},
     "output_type": "execute_result"
    }
   ],
   "source": [
    "ai_message = handle_run_time_request(\n",
    "    \"eugene\", \"my favorite animals are cats and parrots.\"\n",
    ")\n",
    "ai_message.tool_calls"
   ]
  },
  {
   "cell_type": "markdown",
   "metadata": {},
   "source": [
    "How to pass tool outputs to the model"
   ]
  },
  {
   "cell_type": "markdown",
   "metadata": {},
   "source": [
    "使用 ToolMessages 调用模型生成的工具并将结果传递回模型"
   ]
  },
  {
   "cell_type": "code",
   "execution_count": null,
   "metadata": {},
   "outputs": [],
   "source": [
    "# 定义工具和函数（见上）\n",
    "# 连接model（gpt-3.5-turbo-0125）"
   ]
  },
  {
   "cell_type": "code",
   "execution_count": 37,
   "metadata": {},
   "outputs": [
    {
     "name": "stdout",
     "output_type": "stream",
     "text": [
      "messsge: [HumanMessage(content='What is 3 * 12? Also, what is 11 + 49?')]\n",
      "ai_msg: content='' additional_kwargs={'tool_calls': [{'id': 'call_qiSpaAeD5G2koM4ztbNSAjg7', 'function': {'arguments': '{\"a\": 3, \"b\": 12}', 'name': 'Multiply'}, 'type': 'function'}, {'id': 'call_AkSdXuyJ89FixDSPIDKehfAD', 'function': {'arguments': '{\"a\": 11, \"b\": 49}', 'name': 'Add'}, 'type': 'function'}]} response_metadata={'token_usage': {'completion_tokens': 50, 'prompt_tokens': 105, 'total_tokens': 155}, 'model_name': 'gpt-3.5-turbo-0125', 'system_fingerprint': None, 'finish_reason': 'tool_calls', 'logprobs': None} id='run-9e2dca10-f5fc-43ab-8115-128050234e44-0' tool_calls=[{'name': 'Multiply', 'args': {'a': 3, 'b': 12}, 'id': 'call_qiSpaAeD5G2koM4ztbNSAjg7'}, {'name': 'Add', 'args': {'a': 11, 'b': 49}, 'id': 'call_AkSdXuyJ89FixDSPIDKehfAD'}] usage_metadata={'input_tokens': 105, 'output_tokens': 50, 'total_tokens': 155}\n",
      "[{'name': 'Multiply', 'args': {'a': 3, 'b': 12}, 'id': 'call_qiSpaAeD5G2koM4ztbNSAjg7'}, {'name': 'Add', 'args': {'a': 11, 'b': 49}, 'id': 'call_AkSdXuyJ89FixDSPIDKehfAD'}]\n",
      "messsge_append: [HumanMessage(content='What is 3 * 12? Also, what is 11 + 49?'), AIMessage(content='', additional_kwargs={'tool_calls': [{'id': 'call_qiSpaAeD5G2koM4ztbNSAjg7', 'function': {'arguments': '{\"a\": 3, \"b\": 12}', 'name': 'Multiply'}, 'type': 'function'}, {'id': 'call_AkSdXuyJ89FixDSPIDKehfAD', 'function': {'arguments': '{\"a\": 11, \"b\": 49}', 'name': 'Add'}, 'type': 'function'}]}, response_metadata={'token_usage': {'completion_tokens': 50, 'prompt_tokens': 105, 'total_tokens': 155}, 'model_name': 'gpt-3.5-turbo-0125', 'system_fingerprint': None, 'finish_reason': 'tool_calls', 'logprobs': None}, id='run-9e2dca10-f5fc-43ab-8115-128050234e44-0', tool_calls=[{'name': 'Multiply', 'args': {'a': 3, 'b': 12}, 'id': 'call_qiSpaAeD5G2koM4ztbNSAjg7'}, {'name': 'Add', 'args': {'a': 11, 'b': 49}, 'id': 'call_AkSdXuyJ89FixDSPIDKehfAD'}], usage_metadata={'input_tokens': 105, 'output_tokens': 50, 'total_tokens': 155})]\n"
     ]
    }
   ],
   "source": [
    "# 使用 ToolMessage 将工具调用的输出传递回模型\n",
    "from langchain_core.messages import HumanMessage, ToolMessage\n",
    "\n",
    "query = \"What is 3 * 12? Also, what is 11 + 49?\"\n",
    "\n",
    "messages = [HumanMessage(query)]\n",
    "print(f\"messsge:\",messages)\n",
    "\n",
    "ai_msg = llm_with_tools.invoke(messages)\n",
    "print(f\"ai_msg:\",ai_msg)\n",
    "print(ai_msg.tool_calls)\n",
    "\n",
    "messages.append(ai_msg)\n",
    "print(f\"messsge_append:\",messages)"
   ]
  },
  {
   "cell_type": "markdown",
   "metadata": {},
   "source": [
    "messsge: [HumanMessage(content='What is 3 * 12? Also, what is 11 + 49?')]\n",
    "\n",
    "ai_msg: content='' additional_kwargs={'tool_calls': [{'id': 'call_Roj8n2qoYaPVgbqflMYuRjql', 'function': {'arguments': '{\"a\": 3, \"b\": 12}', 'name': 'Multiply'}, 'type': 'function'}, {'id': 'call_2wCh9R62WGL16H2P8DT8ll6P', 'function': {'arguments': '{\"a\": 11, \"b\": 49}', 'name': 'Add'}, 'type': 'function'}]} \n",
    "response_metadata={'token_usage': {'completion_tokens': 50, 'prompt_tokens': 105, 'total_tokens': 155}, 'model_name': 'gpt-3.5-turbo-0125', 'system_fingerprint': None, 'finish_reason': 'tool_calls', 'logprobs': None}\n",
    "id='run-1e56810d-c107-4e60-84ca-faaace650d37-0' tool_calls=[{'name': 'Multiply', 'args': {'a': 3, 'b': 12}, 'id': 'call_Roj8n2qoYaPVgbqflMYuRjql'}, {'name': 'Add', 'args': {'a': 11, 'b': 49}, 'id': 'call_2wCh9R62WGL16H2P8DT8ll6P'}] usage_metadata={'input_tokens': 105, 'output_tokens': 50, 'total_tokens': 155}\n",
    "\n",
    "messsge_append: [HumanMessage(content='What is 3 * 12? Also, what is 11 + 49?'), \n",
    "AIMessage(content='', additional_kwargs={'tool_calls': [{'id': 'call_Roj8n2qoYaPVgbqflMYuRjql', 'function': {'arguments': '{\"a\": 3, \"b\": 12}', 'name': 'Multiply'}, 'type': 'function'}, {'id': 'call_2wCh9R62WGL16H2P8DT8ll6P', 'function': {'arguments': '{\"a\": 11, \"b\": 49}', 'name': 'Add'}, 'type': 'function'}]},\n",
    "response_metadata={'token_usage': {'completion_tokens': 50, 'prompt_tokens': 105, 'total_tokens': 155}, 'model_name': 'gpt-3.5-turbo-0125', 'system_fingerprint': None, 'finish_reason': 'tool_calls', 'logprobs': None}, \n",
    "id='run-1e56810d-c107-4e60-84ca-faaace650d37-0', \n",
    "tool_calls=[{'name': 'Multiply', 'args': {'a': 3, 'b': 12}, 'id': 'call_Roj8n2qoYaPVgbqflMYuRjql'}, {'name': 'Add', 'args': {'a': 11, 'b': 49}, 'id': 'call_2wCh9R62WGL16H2P8DT8ll6P'}], usage_metadata={'input_tokens': 105, 'output_tokens': 50, 'total_tokens': 155})]\n"
   ]
  },
  {
   "cell_type": "code",
   "execution_count": 40,
   "metadata": {},
   "outputs": [
    {
     "data": {
      "text/plain": [
       "[HumanMessage(content='What is 3 * 12? Also, what is 11 + 49?'),\n",
       " AIMessage(content='', additional_kwargs={'tool_calls': [{'id': 'call_qiSpaAeD5G2koM4ztbNSAjg7', 'function': {'arguments': '{\"a\": 3, \"b\": 12}', 'name': 'Multiply'}, 'type': 'function'}, {'id': 'call_AkSdXuyJ89FixDSPIDKehfAD', 'function': {'arguments': '{\"a\": 11, \"b\": 49}', 'name': 'Add'}, 'type': 'function'}]}, response_metadata={'token_usage': {'completion_tokens': 50, 'prompt_tokens': 105, 'total_tokens': 155}, 'model_name': 'gpt-3.5-turbo-0125', 'system_fingerprint': None, 'finish_reason': 'tool_calls', 'logprobs': None}, id='run-9e2dca10-f5fc-43ab-8115-128050234e44-0', tool_calls=[{'name': 'Multiply', 'args': {'a': 3, 'b': 12}, 'id': 'call_qiSpaAeD5G2koM4ztbNSAjg7'}, {'name': 'Add', 'args': {'a': 11, 'b': 49}, 'id': 'call_AkSdXuyJ89FixDSPIDKehfAD'}], usage_metadata={'input_tokens': 105, 'output_tokens': 50, 'total_tokens': 155}),\n",
       " ToolMessage(content='36', tool_call_id='call_qiSpaAeD5G2koM4ztbNSAjg7'),\n",
       " ToolMessage(content='60', tool_call_id='call_AkSdXuyJ89FixDSPIDKehfAD')]"
      ]
     },
     "execution_count": 40,
     "metadata": {},
     "output_type": "execute_result"
    }
   ],
   "source": [
    "for tool_call in ai_msg.tool_calls:\n",
    "    selected_tool = {\"add\":add,\"multiply\": multiply}[tool_call[\"name\"].lower()]\n",
    "    # print(f\"selected_tool:\",selected_tool)\n",
    "\n",
    "    tool_output = selected_tool.invoke(tool_call[\"args\"])\n",
    "    # print(f\"tool_output:\",tool_output)\n",
    "\n",
    "    # # 使用 ToolMessage 记录工具函数执行结果\n",
    "    messages.append(ToolMessage(tool_output, tool_call_id=tool_call[\"id\"]))      \n",
    "\n",
    "messages"
   ]
  },
  {
   "cell_type": "code",
   "execution_count": 41,
   "metadata": {},
   "outputs": [
    {
     "data": {
      "text/plain": [
       "AIMessage(content='3 * 12 is 36, and 11 + 49 is 60.', response_metadata={'token_usage': {'completion_tokens': 19, 'prompt_tokens': 171, 'total_tokens': 190}, 'model_name': 'gpt-3.5-turbo-0125', 'system_fingerprint': None, 'finish_reason': 'stop', 'logprobs': None}, id='run-2ad84148-2f67-4185-bff8-6429d67e354e-0', usage_metadata={'input_tokens': 171, 'output_tokens': 19, 'total_tokens': 190})"
      ]
     },
     "execution_count": 41,
     "metadata": {},
     "output_type": "execute_result"
    }
   ],
   "source": [
    "llm_with_tools.invoke(messages)"
   ]
  },
  {
   "cell_type": "markdown",
   "metadata": {},
   "source": [
    "AIMessage(content='3 * 12 is 36, and 11 + 49 is 60.', response_metadata={'token_usage': {'completion_tokens': 19, 'prompt_tokens': 171, 'total_tokens': 190}, 'model_name': 'gpt-3.5-turbo-0125', 'system_fingerprint': None, 'finish_reason': 'stop', 'logprobs': None}, id='run-2ad84148-2f67-4185-bff8-6429d67e354e-0', usage_metadata={'input_tokens': 171, 'output_tokens': 19, 'total_tokens': 190})"
   ]
  },
  {
   "cell_type": "code",
   "execution_count": null,
   "metadata": {},
   "outputs": [],
   "source": []
  }
 ],
 "metadata": {
  "kernelspec": {
   "display_name": "llm",
   "language": "python",
   "name": "python3"
  },
  "language_info": {
   "codemirror_mode": {
    "name": "ipython",
    "version": 3
   },
   "file_extension": ".py",
   "mimetype": "text/x-python",
   "name": "python",
   "nbconvert_exporter": "python",
   "pygments_lexer": "ipython3",
   "version": "3.10.14"
  }
 },
 "nbformat": 4,
 "nbformat_minor": 2
}
