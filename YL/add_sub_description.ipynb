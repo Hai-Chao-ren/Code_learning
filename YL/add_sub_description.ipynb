{
 "cells": [
  {
   "cell_type": "code",
   "execution_count": 8,
   "metadata": {},
   "outputs": [],
   "source": [
    "import pandas as pd"
   ]
  },
  {
   "cell_type": "code",
   "execution_count": 9,
   "metadata": {},
   "outputs": [],
   "source": [
    "# 读取数据并将standard_code列读取为字符串\n",
    "df = pd.read_csv('data_with_embedding.xlsx', usecols=[1, 2, 3, 4], skiprows=1, nrows=276, header=None, names=['name', 'standard_code', 'description', 'embedding'], dtype={'standard_code': str})\n",
    "\n",
    "# 对 standard_code 进行统一格式处理\n",
    "def normalize_standard_code(code):\n",
    "    parts = code.split('.')\n",
    "    normalized_parts = [part.zfill(2) for part in parts]\n",
    "    return '.'.join(normalized_parts)"
   ]
  },
  {
   "cell_type": "code",
   "execution_count": 10,
   "metadata": {},
   "outputs": [
    {
     "name": "stdout",
     "output_type": "stream",
     "text": [
      "读取的CSV数据:\n",
      "       name standard_code                                        description  \\\n",
      "0     预防保健科            01  预防保健科主要对管辖区域的儿童保健、疾病预防、传染病管理、健康宣教，还有监督卫生监测等进行日...   \n",
      "1     全科医疗科            02  全科医学科是一个面向社区与家庭，整合临床医学、预防医学、康复医学以及人文社会学科相关内容为一...   \n",
      "2        内科            03         包括呼吸内科，消化内科，心血管内科，神经内科，肿瘤科，内分泌科，血液内科，传染病科等   \n",
      "3    呼吸内科专业         03.01  呼吸内科专业是治疗呼吸系统疾病的一种科室，主要涉及肺结核、支气管哮喘、上呼吸道感染、肺气肿等...   \n",
      "4    消化内科专业         03.02  消化内科科是一门专门研究人体消化系统及消化疾病的临床医学专业，涵盖了消化系统疾病的预防、诊断...   \n",
      "..      ...           ...                                                ...   \n",
      "271     彝医学         51.04  彝族人民长期同疾病作斗争的经验总结和智慧结晶。彝族有本民族文字，现在所能收集到的最早的彝族医...   \n",
      "272     傣医学         51.05  傣医学主要研究傣药学、傣医诊疗法、傣医临床医疗技术等方面的基本知识和技能，运用傣医的理法方药...   \n",
      "273      其他         51.06                                          民族医学科其他科室   \n",
      "274  中西医结合科            52  西医结合科综合了现代医学与传统民族医学（包括中医药学、藏医、蒙医、维医等）的精髓，通过整合中...   \n",
      "275  其他业务科室            69                                             其他业务科室   \n",
      "\n",
      "                                             embedding  \n",
      "0    [0.026247937232255936, 0.01702641136944294, 0....  \n",
      "1    [0.022250669077038765, 0.02505989745259285, 0....  \n",
      "2    [0.0027277572080492973, 0.01618928834795952, 0...  \n",
      "3    [0.0005493038333952427, 0.021856846287846565, ...  \n",
      "4    [0.011193374171853065, 0.021655326709151268, 0...  \n",
      "..                                                 ...  \n",
      "271  [0.004268891643732786, 0.03140828758478165, 0....  \n",
      "272  [0.007423824165016413, 0.030175112187862396, 0...  \n",
      "273  [-0.003933061845600605, 0.009949956089258194, ...  \n",
      "274  [-0.007816709578037262, 0.021290598437190056, ...  \n",
      "275  [-0.015188608318567276, -0.016196642071008682,...  \n",
      "\n",
      "[276 rows x 4 columns]\n"
     ]
    }
   ],
   "source": [
    "df['standard_code'] = df['standard_code'].apply(normalize_standard_code)\n",
    "\n",
    "print(\"读取的CSV数据:\")\n",
    "print(df)\n",
    "\n",
    "df.to_csv('modified_data.csv', index=False)"
   ]
  },
  {
   "cell_type": "code",
   "execution_count": 11,
   "metadata": {},
   "outputs": [],
   "source": [
    "# 添加sub_description列\n",
    "df.insert(loc=3,column='sub_description', value='')\n",
    "\n",
    "df.to_csv('modified_data.csv', index=False)"
   ]
  },
  {
   "cell_type": "code",
   "execution_count": 12,
   "metadata": {},
   "outputs": [],
   "source": [
    "# 初始化 sub_description 列\n",
    "df['sub_description'] = ''\n",
    "\n",
    "# 填充 sub_description 列\n",
    "for i in range(len(df)):\n",
    "    current_code = df.at[i, 'standard_code']\n",
    "    sub_descriptions = []\n",
    "    \n",
    "    # 查找所有子级行\n",
    "    for j in range(len(df)):\n",
    "        child_code = df.at[j, 'standard_code']\n",
    "        child_name = df.at[j, 'name']\n",
    "        \n",
    "        # 检查是否是当前行的子级，并且子级的标准编码应该以当前行的标准编码开头，并且层级比当前行的层级深1级\n",
    "        if child_code.startswith(current_code + '.') and len(child_code.split('.')) == len(current_code.split('.')) + 1:\n",
    "            if pd.notna(child_name):  # 只有 name 非空时才添加\n",
    "                sub_descriptions.append(child_name)\n",
    "    \n",
    "    # 将子级行的 name 连接成字符串，并更新父级行的 sub_description 列\n",
    "    if sub_descriptions:\n",
    "        # 将当前行的 sub_description 列更新为子级 name 的逗号分隔字符串\n",
    "        df.at[i, 'sub_description'] = ', '.join(sub_descriptions)\n"
   ]
  },
  {
   "cell_type": "code",
   "execution_count": 13,
   "metadata": {},
   "outputs": [
    {
     "name": "stdout",
     "output_type": "stream",
     "text": [
      "standard_code 为 03.04 的 sub_description 内容:\n",
      "冠心病, 高血压病\n",
      "standard_code 为 03.07 的 sub_description 内容:\n",
      "糖尿病, 甲状腺疾病\n",
      "standard_code 为 03.08 的 sub_description 内容:\n",
      "风湿科, 痛风, 类风关, 系统性红斑狼疮\n"
     ]
    }
   ],
   "source": [
    "# 检查\n",
    "# 打印部分 standard_code 的 sub_description\n",
    "codes_to_print = ['03.04', '03.07', '03.08']\n",
    "for code in codes_to_print:\n",
    "    sub_description = df.loc[df['standard_code'] == code, 'sub_description'].values\n",
    "    if len(sub_description) > 0:\n",
    "        print(f\"standard_code 为 {code} 的 sub_description 内容:\")\n",
    "        print(sub_description[0])\n",
    "    else:\n",
    "        print(f\"未找到 standard_code 为 {code} 的数据。\")"
   ]
  },
  {
   "cell_type": "code",
   "execution_count": 14,
   "metadata": {},
   "outputs": [
    {
     "name": "stdout",
     "output_type": "stream",
     "text": [
      "修改后的CSV数据:\n",
      "       name standard_code                                        description  \\\n",
      "0     预防保健科            01  预防保健科主要对管辖区域的儿童保健、疾病预防、传染病管理、健康宣教，还有监督卫生监测等进行日...   \n",
      "1     全科医疗科            02  全科医学科是一个面向社区与家庭，整合临床医学、预防医学、康复医学以及人文社会学科相关内容为一...   \n",
      "2        内科            03         包括呼吸内科，消化内科，心血管内科，神经内科，肿瘤科，内分泌科，血液内科，传染病科等   \n",
      "3    呼吸内科专业         03.01  呼吸内科专业是治疗呼吸系统疾病的一种科室，主要涉及肺结核、支气管哮喘、上呼吸道感染、肺气肿等...   \n",
      "4    消化内科专业         03.02  消化内科科是一门专门研究人体消化系统及消化疾病的临床医学专业，涵盖了消化系统疾病的预防、诊断...   \n",
      "..      ...           ...                                                ...   \n",
      "271     彝医学         51.04  彝族人民长期同疾病作斗争的经验总结和智慧结晶。彝族有本民族文字，现在所能收集到的最早的彝族医...   \n",
      "272     傣医学         51.05  傣医学主要研究傣药学、傣医诊疗法、傣医临床医疗技术等方面的基本知识和技能，运用傣医的理法方药...   \n",
      "273      其他         51.06                                          民族医学科其他科室   \n",
      "274  中西医结合科            52  西医结合科综合了现代医学与传统民族医学（包括中医药学、藏医、蒙医、维医等）的精髓，通过整合中...   \n",
      "275  其他业务科室            69                                             其他业务科室   \n",
      "\n",
      "                                       sub_description  \\\n",
      "0                                                        \n",
      "1                                                        \n",
      "2    呼吸内科专业, 消化内科专业, 神经内科专业, 心血管内科专业, 血液内科专业, 肾病学专业...   \n",
      "3                                                        \n",
      "4                                                        \n",
      "..                                                 ...   \n",
      "271                                                      \n",
      "272                                                      \n",
      "273                                                      \n",
      "274                                                      \n",
      "275                                                      \n",
      "\n",
      "                                             embedding  \n",
      "0    [0.026247937232255936, 0.01702641136944294, 0....  \n",
      "1    [0.022250669077038765, 0.02505989745259285, 0....  \n",
      "2    [0.0027277572080492973, 0.01618928834795952, 0...  \n",
      "3    [0.0005493038333952427, 0.021856846287846565, ...  \n",
      "4    [0.011193374171853065, 0.021655326709151268, 0...  \n",
      "..                                                 ...  \n",
      "271  [0.004268891643732786, 0.03140828758478165, 0....  \n",
      "272  [0.007423824165016413, 0.030175112187862396, 0...  \n",
      "273  [-0.003933061845600605, 0.009949956089258194, ...  \n",
      "274  [-0.007816709578037262, 0.021290598437190056, ...  \n",
      "275  [-0.015188608318567276, -0.016196642071008682,...  \n",
      "\n",
      "[276 rows x 5 columns]\n"
     ]
    }
   ],
   "source": [
    "df.to_csv('modified_data.csv', index=False)\n",
    "df[['standard_code', 'sub_description']].to_csv('sub_descriptions.csv', index=False)\n",
    "print(\"修改后的CSV数据:\")\n",
    "print(df)"
   ]
  }
 ],
 "metadata": {
  "kernelspec": {
   "display_name": "KG",
   "language": "python",
   "name": "python3"
  },
  "language_info": {
   "codemirror_mode": {
    "name": "ipython",
    "version": 3
   },
   "file_extension": ".py",
   "mimetype": "text/x-python",
   "name": "python",
   "nbconvert_exporter": "python",
   "pygments_lexer": "ipython3",
   "version": "3.10.14"
  }
 },
 "nbformat": 4,
 "nbformat_minor": 2
}
